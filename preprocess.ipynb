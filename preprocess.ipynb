{
 "cells": [
  {
   "cell_type": "code",
   "execution_count": 1,
   "id": "b33bcb60",
   "metadata": {},
   "outputs": [],
   "source": [
    "import pandas as pd\n",
    "\n",
    "def format_row(row):\n",
    "    return {\n",
    "        \"prompt\": f\"\"\"### Instruction:\n",
    "Answer the following medical question based on the provided context.\n",
    "\n",
    "### Context:\n",
    "{row['context']}\n",
    "\n",
    "### Question:\n",
    "{row['question']}\n",
    "\n",
    "### Answer:\"\"\",\n",
    "        \"response\": row[\"long_answer\"]\n",
    "    }\n",
    "\n",
    "def convert_csv_to_prompt_format(path):\n",
    "    df = pd.read_csv(path)\n",
    "    df = df.dropna(subset=[\"question\", \"context\", \"long_answer\"])\n",
    "    return [format_row(row) for _, row in df.iterrows()]\n"
   ]
  },
  {
   "cell_type": "code",
   "execution_count": 3,
   "id": "70253e67",
   "metadata": {},
   "outputs": [],
   "source": [
    "# Paths\n",
    "train_path = \"datasets/pubmedqa/train.csv\"\n",
    "val_path = \"datasets/pubmedqa/val.csv\"\n",
    "test_path = \"datasets/pubmedqa/test.csv\"\n",
    "\n",
    "# Convert\n",
    "train_data = convert_csv_to_prompt_format(train_path)\n",
    "val_data = convert_csv_to_prompt_format(val_path)\n",
    "test_data = convert_csv_to_prompt_format(test_path)\n"
   ]
  },
  {
   "cell_type": "code",
   "execution_count": 4,
   "id": "85f4b627",
   "metadata": {},
   "outputs": [],
   "source": [
    "import json\n",
    "\n",
    "def save_jsonl(data, path):\n",
    "    with open(path, \"w\") as f:\n",
    "        for item in data:\n",
    "            json.dump(item, f)\n",
    "            f.write(\"\\n\")\n",
    "\n",
    "save_jsonl(train_data, \"datasets/pubmedqa/train_prompted.jsonl\")\n",
    "save_jsonl(val_data, \"datasets/pubmedqa/val_prompted.jsonl\")\n",
    "save_jsonl(test_data, \"datasets/pubmedqa/test_prompted.jsonl\")\n"
   ]
  },
  {
   "cell_type": "code",
   "execution_count": null,
   "id": "8ddf7991",
   "metadata": {},
   "outputs": [],
   "source": []
  }
 ],
 "metadata": {
  "kernelspec": {
   "display_name": "Python 3",
   "language": "python",
   "name": "python3"
  },
  "language_info": {
   "codemirror_mode": {
    "name": "ipython",
    "version": 3
   },
   "file_extension": ".py",
   "mimetype": "text/x-python",
   "name": "python",
   "nbconvert_exporter": "python",
   "pygments_lexer": "ipython3",
   "version": "3.11.13"
  }
 },
 "nbformat": 4,
 "nbformat_minor": 5
}
