{
 "cells": [
  {
   "cell_type": "code",
   "execution_count": 1,
   "id": "80d75d89",
   "metadata": {},
   "outputs": [
    {
     "data": {
      "application/vnd.jupyter.widget-view+json": {
       "model_id": "6519414805294c95aaf4354b71966dbe",
       "version_major": 2,
       "version_minor": 0
      },
      "text/plain": [
       "README.md: 0.00B [00:00, ?B/s]"
      ]
     },
     "metadata": {},
     "output_type": "display_data"
    },
    {
     "data": {
      "application/vnd.jupyter.widget-view+json": {
       "model_id": "c87f4954cf5243e3931e6c0f22af75dd",
       "version_major": 2,
       "version_minor": 0
      },
      "text/plain": [
       "train-00000-of-00001.parquet:   0%|          | 0.00/233M [00:00<?, ?B/s]"
      ]
     },
     "metadata": {},
     "output_type": "display_data"
    },
    {
     "data": {
      "application/vnd.jupyter.widget-view+json": {
       "model_id": "67aa49c4a6b14a9aa3501efa01c39614",
       "version_major": 2,
       "version_minor": 0
      },
      "text/plain": [
       "Generating train split:   0%|          | 0/211269 [00:00<?, ? examples/s]"
      ]
     },
     "metadata": {},
     "output_type": "display_data"
    }
   ],
   "source": [
    "from datasets import load_dataset\n",
    "\n",
    "ds = load_dataset(\"qiaojin/PubMedQA\", \"pqa_artificial\")"
   ]
  },
  {
   "cell_type": "code",
   "execution_count": 23,
   "id": "6ef9d8f2",
   "metadata": {},
   "outputs": [
    {
     "name": "stdout",
     "output_type": "stream",
     "text": [
      "DatasetDict({\n",
      "    train: Dataset({\n",
      "        features: ['pubid', 'question', 'context', 'long_answer', 'final_decision'],\n",
      "        num_rows: 211269\n",
      "    })\n",
      "})\n"
     ]
    }
   ],
   "source": [
    "dataset = ds\n",
    "print(dataset)"
   ]
  },
  {
   "cell_type": "code",
   "execution_count": 24,
   "id": "5f722fb3",
   "metadata": {
    "vscode": {
     "languageId": "markdown"
    }
   },
   "outputs": [
    {
     "name": "stdout",
     "output_type": "stream",
     "text": [
      "(211269, 5)\n",
      "DatasetDict({\n",
      "    train: Dataset({\n",
      "        features: ['pubid', 'question', 'context', 'long_answer', 'final_decision'],\n",
      "        num_rows: 211269\n",
      "    })\n",
      "})\n",
      "Dataset({\n",
      "    features: ['pubid', 'question', 'context', 'long_answer', 'final_decision'],\n",
      "    num_rows: 211269\n",
      "})\n"
     ]
    }
   ],
   "source": [
    "print(dataset['train'].shape)\n",
    "print(dataset)\n",
    "print(dataset['train'])"
   ]
  },
  {
   "cell_type": "code",
   "execution_count": 25,
   "id": "38995ced",
   "metadata": {},
   "outputs": [
    {
     "name": "stdout",
     "output_type": "stream",
     "text": [
      "{'train': Dataset({\n",
      "    features: ['pubid', 'question', 'context', 'long_answer', 'final_decision'],\n",
      "    num_rows: 190142\n",
      "}), 'validation': Dataset({\n",
      "    features: ['pubid', 'question', 'context', 'long_answer', 'final_decision'],\n",
      "    num_rows: 10563\n",
      "}), 'test': Dataset({\n",
      "    features: ['pubid', 'question', 'context', 'long_answer', 'final_decision'],\n",
      "    num_rows: 10564\n",
      "})}\n"
     ]
    }
   ],
   "source": [
    "split_dataset = dataset[\"train\"].train_test_split(test_size=0.1, seed=42)\n",
    "val_test_split = split_dataset[\"test\"].train_test_split(test_size=0.5, seed=42)\n",
    "\n",
    "new_dataset = {\n",
    "    \"train\": split_dataset[\"train\"],\n",
    "    \"validation\": val_test_split[\"train\"],\n",
    "    \"test\": val_test_split[\"test\"]\n",
    "}\n",
    "\n",
    "print(new_dataset)"
   ]
  },
  {
   "cell_type": "code",
   "execution_count": null,
   "id": "7eb28e76",
   "metadata": {},
   "outputs": [],
   "source": [
    "import os\n",
    "os.makedirs(\"data/pubmedqa\", exist_ok=True)"
   ]
  },
  {
   "cell_type": "code",
   "execution_count": null,
   "id": "1d0fb15a",
   "metadata": {},
   "outputs": [],
   "source": [
    "import pandas as pd\n",
    "\n",
    "# Convert each split to a pandas DataFrame\n",
    "df_train = pd.DataFrame(new_dataset[\"train\"])\n",
    "df_val = pd.DataFrame(new_dataset[\"validation\"])\n",
    "df_test = pd.DataFrame(new_dataset[\"test\"])\n",
    "\n",
    "# Save to CSV\n",
    "df_train.to_csv(\"datasets/pubmedqa/train.csv\", index=False)\n",
    "df_val.to_csv(\"datasets/pubmedqa/val.csv\", index=False)\n",
    "df_test.to_csv(\"datasets/pubmedqa/test.csv\", index=False)"
   ]
  },
  {
   "cell_type": "code",
   "execution_count": null,
   "id": "97f6ae05",
   "metadata": {},
   "outputs": [],
   "source": []
  }
 ],
 "metadata": {
  "kernelspec": {
   "display_name": "Python 3",
   "language": "python",
   "name": "python3"
  },
  "language_info": {
   "codemirror_mode": {
    "name": "ipython",
    "version": 3
   },
   "file_extension": ".py",
   "mimetype": "text/x-python",
   "name": "python",
   "nbconvert_exporter": "python",
   "pygments_lexer": "ipython3",
   "version": "3.11.13"
  }
 },
 "nbformat": 4,
 "nbformat_minor": 5
}
